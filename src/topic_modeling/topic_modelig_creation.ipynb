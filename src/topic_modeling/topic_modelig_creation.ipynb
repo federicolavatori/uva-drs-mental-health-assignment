{
 "cells": [
  {
   "cell_type": "markdown",
   "id": "779cc4a5-bdbd-4c1b-9375-84c1c740b3c6",
   "metadata": {},
   "source": [
    "# Topic Model Creation and Inspection\n",
    "\n",
    "This notebook will train a set of topic models. You must have a dictionary file (extension: .lda_dict) and a corpus in matrix market format (extension: .mm). If you do not have these files, the script will fail. Use the Preparation Notebook to create these files. If you do not have docbins, create them in the Corpus Linguistics notebook before using the Preparation Notebook for Topic Modelling.\n",
    "\n",
    "Topic modelling has been introduced in class and you can read more about it in our readings (particularly Nelson, Lukito and Pruden, and Ganesh and Faggiani). \n",
    "\n",
    "You need to decide how many topics you want the model to give you. So for example, if you ask for 5 topics, that's how many you will get. If you ask for 50, that's how many you will get. We call this number of topics \"k\", which is our variable. We will refer to \"k\" very often--remember, that just means the number of topics!\n",
    "\n",
    "You should select at least 3 k values, eg. 5, 10, 15, which is what we will do here just for the sake of demonstration. You should then evaluate each model using the visualization you will find in each folder (discussed in class) to evaluate the topic model. If you are satisfied with it, then you can use that model, and in the following notebook, we will transform your original dataset with topic probabilities. First, of course, we have to train the models and inspect them. The files you need to do that are included here. \n",
    "\n",
    "Note that each run (so for each k value you choose), this notebook may need to run for a long time. If this is taking an extremely long time on your computer, please contact me and I can run the computation for you (as this is a hardware limitation).\n",
    "\n",
    "In the cell below, set up your variables so the script knows where to look. This is similar to the Preparation notebook."
   ]
  },
  {
   "cell_type": "code",
   "execution_count": 2,
   "id": "cff93b78-ff55-4e18-8e0e-4bc5ce78edfa",
   "metadata": {
    "tags": []
   },
   "outputs": [],
   "source": [
    "from drs_topic_model import *\n",
    "\n",
    "# Here, you will add in the appropriate information so that the code below will work\n",
    "\n",
    "# spacy_model is the language model you are using; the default value should be correct for English. If you are using a different model, make sure to use the name of the model exactly as it is given, which you can find in the model section of spacy.io\n",
    "spacy_model = \"en_core_web_sm\"\n",
    "\n",
    "# project save name is the name of your project and is used to create an easy to read name for the different folders and files the script will create automatically\n",
    "project_save_name = \"anxiety\"\n",
    "\n",
    "# remove_stopwords is whether or not you want the script to remove \"non-lexical\" words, such as \"the\" or \"and\". Change the value to False if you wish to include these words.\n",
    "# if you set it to True when you did the dictionary and corpus in the previous notebook, this MUST BE THE SAME! Otherwise you may get errors or completely incorrect results!\n",
    "remove_stopwords = True \n",
    "\n",
    "# IMPORTANT: This is where you set your k values. We are doing 5, 10, 15, but you may want totally different numbers.\n",
    "# this must be a list of numbers separated by commas, the default is just an example. You can also just put in one value as long as it is in square brackets, eg. [10] for k=10. This will only train one model, which is good just to test the code. \n",
    "ks = list(pd.Series(range(2, 11))) # you should always try multiple k values! this way you can compare models rather than just trust that one worked properly"
   ]
  },
  {
   "cell_type": "markdown",
   "id": "2e883145-3ff6-4ea6-923a-c0e1ddb7e2de",
   "metadata": {},
   "source": [
    "### Create Topic models\n",
    "\n",
    "Just run the code cell below to create the models. This might take some time!\n",
    "\n",
    "If you have errors loading the corpus or dictionary, you might need to check you have the right project_save_name."
   ]
  },
  {
   "cell_type": "code",
   "execution_count": 3,
   "id": "c62a25db-65e1-4818-9698-45fc35deb6f0",
   "metadata": {
    "tags": []
   },
   "outputs": [
    {
     "name": "stdout",
     "output_type": "stream",
     "text": [
      "Loading dictionary and corpus.\n",
      "Processing topic models. This will take at least a few minutes for each 'k' or number of topics you selected.\n",
      "Computing model, k = 2\n",
      "     Computing evaluation data...\n",
      "     Saving Model...\n",
      "     Generating topic/term display...\n",
      "     Generating interactive topic visualisation...\n",
      "Computing model, k = 3\n",
      "     Computing evaluation data...\n",
      "     Saving Model...\n",
      "     Generating topic/term display...\n",
      "     Generating interactive topic visualisation...\n",
      "Computing model, k = 4\n",
      "     Computing evaluation data...\n",
      "     Saving Model...\n",
      "     Generating topic/term display...\n",
      "     Generating interactive topic visualisation...\n",
      "Computing model, k = 5\n",
      "     Computing evaluation data...\n",
      "     Saving Model...\n",
      "     Generating topic/term display...\n",
      "     Generating interactive topic visualisation...\n",
      "Computing model, k = 6\n",
      "     Computing evaluation data...\n",
      "     Saving Model...\n",
      "     Generating topic/term display...\n",
      "     Generating interactive topic visualisation...\n",
      "Computing model, k = 7\n",
      "     Computing evaluation data...\n",
      "     Saving Model...\n",
      "     Generating topic/term display...\n",
      "     Generating interactive topic visualisation...\n",
      "Computing model, k = 8\n",
      "     Computing evaluation data...\n",
      "     Saving Model...\n",
      "     Generating topic/term display...\n",
      "     Generating interactive topic visualisation...\n",
      "Computing model, k = 9\n",
      "     Computing evaluation data...\n",
      "     Saving Model...\n",
      "     Generating topic/term display...\n",
      "     Generating interactive topic visualisation...\n",
      "Computing model, k = 10\n",
      "     Computing evaluation data...\n",
      "     Saving Model...\n",
      "     Generating topic/term display...\n",
      "     Generating interactive topic visualisation...\n",
      "Finished generating topic models. Examine each one, and either run this notebook again with a different set of k values (you can skip the ones you have already trained to save computing time) or move on to the dataframe transformation notebook.\n"
     ]
    }
   ],
   "source": [
    "# Now we train the topic model. If you want to use the other notebook, you can stop here. there is no need to run this cell.\n",
    "# Before running this cell, double check the values you used for k. Are they what you want? Don't try more than 3 k values the first time you run this, so you know how long it will take\n",
    "# this will try to use as much of your CPU as possible, so be prepared to leave your computer alone for a while, and try to make sure it is connected to a power source\n",
    "\n",
    "print(\"Loading dictionary and corpus.\")\n",
    "\n",
    "# load up our dictionary and corpus files from disk\n",
    "\n",
    "#dict_file = f\"./{project_save_name}_topic_models_intermediate_data/{project_save_name}.lda_dict\"\n",
    "dict_file = f\"../../intermediate_data/{project_save_name}_topic_models_params/{project_save_name}.lda_dict\"\n",
    "\n",
    "#corpus_file = f\"./{project_save_name}_topic_models_intermediate_data/{project_save_name}.mm\"\n",
    "corpus_file = f\"../../intermediate_data/{project_save_name}_topic_models_params/{project_save_name}.mm\"\n",
    "\n",
    "dictionary = Dictionary.load(dict_file)\n",
    "corpus = MmCorpus(corpus_file)\n",
    "\n",
    "# now we train the topic model\n",
    "# in order to handle file structure, we have to wrap the training in this if/else statement,\n",
    "# it checks if the folder exists, and if it does, it creates the models; else if the folder does \n",
    "# not exist, it creates a folder and then it creates the models.\n",
    "\n",
    "print(\"Processing topic models. This will take at least a few minutes for each 'k' or number of topics you selected.\")\n",
    "\n",
    "topic_model_directory = \"../../output_data/\" + project_save_name + \"_topic_models/\"\n",
    "\n",
    "if os.path.exists(topic_model_directory):\n",
    "    create_topic_model(\n",
    "        corpus,\n",
    "        dictionary,\n",
    "        ks,\n",
    "        project_directory = topic_model_directory\n",
    "    )\n",
    "else:\n",
    "    os.mkdir(topic_model_directory)\n",
    "    create_topic_model(\n",
    "        corpus,\n",
    "        dictionary,\n",
    "        ks,\n",
    "        project_directory = topic_model_directory\n",
    "    )\n",
    "\n",
    "print(\"Finished generating topic models. Examine each one, and either run this notebook again with a different set of k values (you can skip the ones you have already trained to save computing time) or move on to the dataframe transformation notebook.\")"
   ]
  },
  {
   "cell_type": "code",
   "execution_count": null,
   "id": "5b9dfbc4-be65-4236-b082-701d76db2454",
   "metadata": {},
   "outputs": [],
   "source": []
  }
 ],
 "metadata": {
  "kernelspec": {
   "display_name": "Python 3 (ipykernel)",
   "language": "python",
   "name": "python3"
  },
  "language_info": {
   "codemirror_mode": {
    "name": "ipython",
    "version": 3
   },
   "file_extension": ".py",
   "mimetype": "text/x-python",
   "name": "python",
   "nbconvert_exporter": "python",
   "pygments_lexer": "ipython3",
   "version": "3.9.1"
  }
 },
 "nbformat": 4,
 "nbformat_minor": 5
}
